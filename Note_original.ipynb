{
 "cells": [
  {
   "cell_type": "code",
   "execution_count": null,
   "id": "d933d0c3-4cc1-4244-b3ed-2e0000fbd83b",
   "metadata": {},
   "outputs": [],
   "source": []
  },
  {
   "cell_type": "markdown",
   "id": "47a5b3ce-471a-4ba7-bd56-525e51ce24e0",
   "metadata": {},
   "source": [
    "Using the data from the 2 attached CSV files, \n",
    "your task is to estimate how much revenue we can expect in 2023 and \n",
    "how many unique patients we will have acquired by the end of 2023.\n",
    "You should take into account that we will launch one clinic in March 2023, and another one in July 2023. \n",
    "The 2 already existing clinics will keep running in 2023. "
   ]
  },
  {
   "cell_type": "markdown",
   "id": "dd3be6d7-ccd8-432b-9543-89dd47fad2ba",
   "metadata": {},
   "source": [
    "# Import data"
   ]
  },
  {
   "cell_type": "code",
   "execution_count": 2,
   "id": "d963fa05-8226-45f3-adab-fab0a4260d62",
   "metadata": {},
   "outputs": [],
   "source": [
    "import pandas as pd\n",
    "import matplotlib.pyplot as plt\n",
    "import seaborn as sns"
   ]
  },
  {
   "cell_type": "code",
   "execution_count": 3,
   "id": "7fe73a55-5974-4345-9a5f-e0d2c482e43f",
   "metadata": {},
   "outputs": [],
   "source": [
    "appointment = pd.read_csv('/Users/valeriiasatsiuk/Downloads/Dental21/p21_bi_intern_test_appointments(1).csv')\n",
    "revenue = pd.read_csv('/Users/valeriiasatsiuk/Downloads/Dental21/p21_bi_intern_test_revenues.csv')"
   ]
  },
  {
   "cell_type": "code",
   "execution_count": 4,
   "id": "b63165be-6b76-4563-b8a5-d8f6b0d73ef2",
   "metadata": {},
   "outputs": [
    {
     "data": {
      "text/html": [
       "<div>\n",
       "<style scoped>\n",
       "    .dataframe tbody tr th:only-of-type {\n",
       "        vertical-align: middle;\n",
       "    }\n",
       "\n",
       "    .dataframe tbody tr th {\n",
       "        vertical-align: top;\n",
       "    }\n",
       "\n",
       "    .dataframe thead th {\n",
       "        text-align: right;\n",
       "    }\n",
       "</style>\n",
       "<table border=\"1\" class=\"dataframe\">\n",
       "  <thead>\n",
       "    <tr style=\"text-align: right;\">\n",
       "      <th></th>\n",
       "      <th>appointment_id</th>\n",
       "      <th>practitioner_id</th>\n",
       "      <th>patient_id</th>\n",
       "      <th>clinic_id</th>\n",
       "      <th>appointment_date</th>\n",
       "    </tr>\n",
       "  </thead>\n",
       "  <tbody>\n",
       "    <tr>\n",
       "      <th>0</th>\n",
       "      <td>0004df0d-3df6-42be-9d68-b646a42a44bb</td>\n",
       "      <td>c7402157-ae44-45cc-b6a7-b348d5dbd417</td>\n",
       "      <td>158184</td>\n",
       "      <td>2</td>\n",
       "      <td>2022-12-22</td>\n",
       "    </tr>\n",
       "    <tr>\n",
       "      <th>1</th>\n",
       "      <td>000a978e-f134-47b3-ab9e-4f56084be38e</td>\n",
       "      <td>3ca4793d-065e-4112-b023-d1122a2a4b44</td>\n",
       "      <td>112887</td>\n",
       "      <td>2</td>\n",
       "      <td>2022-06-02</td>\n",
       "    </tr>\n",
       "    <tr>\n",
       "      <th>2</th>\n",
       "      <td>000c1615-0980-4933-9ad1-6f34bb5e188e</td>\n",
       "      <td>c7402157-ae44-45cc-b6a7-b348d5dbd417</td>\n",
       "      <td>141451</td>\n",
       "      <td>2</td>\n",
       "      <td>2022-10-18</td>\n",
       "    </tr>\n",
       "    <tr>\n",
       "      <th>3</th>\n",
       "      <td>000d8c91-e6a8-4404-bf8b-4951ed8ca1f2</td>\n",
       "      <td>2ea0ca2a-77fc-4447-b57c-62a6cb4d75a1</td>\n",
       "      <td>37516</td>\n",
       "      <td>1</td>\n",
       "      <td>2022-01-06</td>\n",
       "    </tr>\n",
       "    <tr>\n",
       "      <th>4</th>\n",
       "      <td>0015acc2-484c-491a-b455-0963835a31dd</td>\n",
       "      <td>ed1a5b13-3dc5-4212-b989-f59258b4410e</td>\n",
       "      <td>141833</td>\n",
       "      <td>2</td>\n",
       "      <td>2022-10-14</td>\n",
       "    </tr>\n",
       "    <tr>\n",
       "      <th>...</th>\n",
       "      <td>...</td>\n",
       "      <td>...</td>\n",
       "      <td>...</td>\n",
       "      <td>...</td>\n",
       "      <td>...</td>\n",
       "    </tr>\n",
       "    <tr>\n",
       "      <th>11010</th>\n",
       "      <td>ffe5ef65-a922-416e-ab3f-edd7155fc9c8</td>\n",
       "      <td>c7402157-ae44-45cc-b6a7-b348d5dbd417</td>\n",
       "      <td>121442</td>\n",
       "      <td>2</td>\n",
       "      <td>2022-08-10</td>\n",
       "    </tr>\n",
       "    <tr>\n",
       "      <th>11011</th>\n",
       "      <td>ffe61232-0eb1-478e-a95d-238f2e424c5e</td>\n",
       "      <td>3ca4793d-065e-4112-b023-d1122a2a4b44</td>\n",
       "      <td>115034</td>\n",
       "      <td>2</td>\n",
       "      <td>2022-05-19</td>\n",
       "    </tr>\n",
       "    <tr>\n",
       "      <th>11012</th>\n",
       "      <td>ffec22fc-a246-4432-9b9c-448ba57044a8</td>\n",
       "      <td>2ea0ca2a-77fc-4447-b57c-62a6cb4d75a1</td>\n",
       "      <td>23279</td>\n",
       "      <td>1</td>\n",
       "      <td>2022-07-11</td>\n",
       "    </tr>\n",
       "    <tr>\n",
       "      <th>11013</th>\n",
       "      <td>ffef4a4a-a15b-4820-8b50-861f1c26c666</td>\n",
       "      <td>c7402157-ae44-45cc-b6a7-b348d5dbd417</td>\n",
       "      <td>70565</td>\n",
       "      <td>2</td>\n",
       "      <td>2022-02-09</td>\n",
       "    </tr>\n",
       "    <tr>\n",
       "      <th>11014</th>\n",
       "      <td>fffdf724-6808-469e-910a-45629b63f613</td>\n",
       "      <td>c7402157-ae44-45cc-b6a7-b348d5dbd417</td>\n",
       "      <td>67361</td>\n",
       "      <td>2</td>\n",
       "      <td>2022-02-01</td>\n",
       "    </tr>\n",
       "  </tbody>\n",
       "</table>\n",
       "<p>11015 rows × 5 columns</p>\n",
       "</div>"
      ],
      "text/plain": [
       "                             appointment_id  \\\n",
       "0      0004df0d-3df6-42be-9d68-b646a42a44bb   \n",
       "1      000a978e-f134-47b3-ab9e-4f56084be38e   \n",
       "2      000c1615-0980-4933-9ad1-6f34bb5e188e   \n",
       "3      000d8c91-e6a8-4404-bf8b-4951ed8ca1f2   \n",
       "4      0015acc2-484c-491a-b455-0963835a31dd   \n",
       "...                                     ...   \n",
       "11010  ffe5ef65-a922-416e-ab3f-edd7155fc9c8   \n",
       "11011  ffe61232-0eb1-478e-a95d-238f2e424c5e   \n",
       "11012  ffec22fc-a246-4432-9b9c-448ba57044a8   \n",
       "11013  ffef4a4a-a15b-4820-8b50-861f1c26c666   \n",
       "11014  fffdf724-6808-469e-910a-45629b63f613   \n",
       "\n",
       "                            practitioner_id  patient_id  clinic_id  \\\n",
       "0      c7402157-ae44-45cc-b6a7-b348d5dbd417      158184          2   \n",
       "1      3ca4793d-065e-4112-b023-d1122a2a4b44      112887          2   \n",
       "2      c7402157-ae44-45cc-b6a7-b348d5dbd417      141451          2   \n",
       "3      2ea0ca2a-77fc-4447-b57c-62a6cb4d75a1       37516          1   \n",
       "4      ed1a5b13-3dc5-4212-b989-f59258b4410e      141833          2   \n",
       "...                                     ...         ...        ...   \n",
       "11010  c7402157-ae44-45cc-b6a7-b348d5dbd417      121442          2   \n",
       "11011  3ca4793d-065e-4112-b023-d1122a2a4b44      115034          2   \n",
       "11012  2ea0ca2a-77fc-4447-b57c-62a6cb4d75a1       23279          1   \n",
       "11013  c7402157-ae44-45cc-b6a7-b348d5dbd417       70565          2   \n",
       "11014  c7402157-ae44-45cc-b6a7-b348d5dbd417       67361          2   \n",
       "\n",
       "      appointment_date  \n",
       "0           2022-12-22  \n",
       "1           2022-06-02  \n",
       "2           2022-10-18  \n",
       "3           2022-01-06  \n",
       "4           2022-10-14  \n",
       "...                ...  \n",
       "11010       2022-08-10  \n",
       "11011       2022-05-19  \n",
       "11012       2022-07-11  \n",
       "11013       2022-02-09  \n",
       "11014       2022-02-01  \n",
       "\n",
       "[11015 rows x 5 columns]"
      ]
     },
     "execution_count": 4,
     "metadata": {},
     "output_type": "execute_result"
    }
   ],
   "source": [
    "appointment"
   ]
  },
  {
   "cell_type": "code",
   "execution_count": 5,
   "id": "8ea2a8da-9dc4-48cf-8faa-9b1b0e562075",
   "metadata": {},
   "outputs": [
    {
     "data": {
      "text/html": [
       "<div>\n",
       "<style scoped>\n",
       "    .dataframe tbody tr th:only-of-type {\n",
       "        vertical-align: middle;\n",
       "    }\n",
       "\n",
       "    .dataframe tbody tr th {\n",
       "        vertical-align: top;\n",
       "    }\n",
       "\n",
       "    .dataframe thead th {\n",
       "        text-align: right;\n",
       "    }\n",
       "</style>\n",
       "<table border=\"1\" class=\"dataframe\">\n",
       "  <thead>\n",
       "    <tr style=\"text-align: right;\">\n",
       "      <th></th>\n",
       "      <th>appointment_id</th>\n",
       "      <th>revenues</th>\n",
       "    </tr>\n",
       "  </thead>\n",
       "  <tbody>\n",
       "    <tr>\n",
       "      <th>0</th>\n",
       "      <td>68339e8c-c708-4042-ba21-263838e0487b</td>\n",
       "      <td>NaN</td>\n",
       "    </tr>\n",
       "    <tr>\n",
       "      <th>1</th>\n",
       "      <td>270bd629-028b-45b2-86a1-af8de97a7fd0</td>\n",
       "      <td>54.17</td>\n",
       "    </tr>\n",
       "    <tr>\n",
       "      <th>2</th>\n",
       "      <td>85c0b7cf-6e50-4683-88c4-9d6ea30f6500</td>\n",
       "      <td>20.67</td>\n",
       "    </tr>\n",
       "    <tr>\n",
       "      <th>3</th>\n",
       "      <td>4333637e-b13a-41b8-a0b6-d43ce4c7c761</td>\n",
       "      <td>35.69</td>\n",
       "    </tr>\n",
       "    <tr>\n",
       "      <th>4</th>\n",
       "      <td>e526a6ac-eaf4-47bd-bead-1332fe3444e4</td>\n",
       "      <td>150.77</td>\n",
       "    </tr>\n",
       "    <tr>\n",
       "      <th>...</th>\n",
       "      <td>...</td>\n",
       "      <td>...</td>\n",
       "    </tr>\n",
       "    <tr>\n",
       "      <th>11010</th>\n",
       "      <td>12d72aec-806b-4b47-a775-9fb0a8fb3f9f</td>\n",
       "      <td>263.44</td>\n",
       "    </tr>\n",
       "    <tr>\n",
       "      <th>11011</th>\n",
       "      <td>e24afe93-a5af-4256-b8c8-6c8e68c500ae</td>\n",
       "      <td>76.90</td>\n",
       "    </tr>\n",
       "    <tr>\n",
       "      <th>11012</th>\n",
       "      <td>651fba9c-5571-4cd5-bc0e-89a06a2c49f6</td>\n",
       "      <td>76.90</td>\n",
       "    </tr>\n",
       "    <tr>\n",
       "      <th>11013</th>\n",
       "      <td>c251c42b-2c61-4fb3-92f0-37e97c90d556</td>\n",
       "      <td>76.90</td>\n",
       "    </tr>\n",
       "    <tr>\n",
       "      <th>11014</th>\n",
       "      <td>6b4d53b6-50c2-4fa2-920d-4812ec4f7855</td>\n",
       "      <td>76.90</td>\n",
       "    </tr>\n",
       "  </tbody>\n",
       "</table>\n",
       "<p>11015 rows × 2 columns</p>\n",
       "</div>"
      ],
      "text/plain": [
       "                             appointment_id  revenues\n",
       "0      68339e8c-c708-4042-ba21-263838e0487b       NaN\n",
       "1      270bd629-028b-45b2-86a1-af8de97a7fd0     54.17\n",
       "2      85c0b7cf-6e50-4683-88c4-9d6ea30f6500     20.67\n",
       "3      4333637e-b13a-41b8-a0b6-d43ce4c7c761     35.69\n",
       "4      e526a6ac-eaf4-47bd-bead-1332fe3444e4    150.77\n",
       "...                                     ...       ...\n",
       "11010  12d72aec-806b-4b47-a775-9fb0a8fb3f9f    263.44\n",
       "11011  e24afe93-a5af-4256-b8c8-6c8e68c500ae     76.90\n",
       "11012  651fba9c-5571-4cd5-bc0e-89a06a2c49f6     76.90\n",
       "11013  c251c42b-2c61-4fb3-92f0-37e97c90d556     76.90\n",
       "11014  6b4d53b6-50c2-4fa2-920d-4812ec4f7855     76.90\n",
       "\n",
       "[11015 rows x 2 columns]"
      ]
     },
     "execution_count": 5,
     "metadata": {},
     "output_type": "execute_result"
    }
   ],
   "source": [
    "revenue"
   ]
  },
  {
   "cell_type": "code",
   "execution_count": 6,
   "id": "87b4bf7b-a770-459a-918a-95c98547245b",
   "metadata": {},
   "outputs": [],
   "source": [
    "data = appointment.merge(\n",
    "                    revenue, \n",
    "                    on= 'appointment_id',\n",
    "                    how=\"left\")   \n",
    "     "
   ]
  },
  {
   "cell_type": "code",
   "execution_count": 7,
   "id": "1c4db944-a8a4-44a6-a762-8e1a3313da1f",
   "metadata": {},
   "outputs": [
    {
     "data": {
      "text/html": [
       "<div>\n",
       "<style scoped>\n",
       "    .dataframe tbody tr th:only-of-type {\n",
       "        vertical-align: middle;\n",
       "    }\n",
       "\n",
       "    .dataframe tbody tr th {\n",
       "        vertical-align: top;\n",
       "    }\n",
       "\n",
       "    .dataframe thead th {\n",
       "        text-align: right;\n",
       "    }\n",
       "</style>\n",
       "<table border=\"1\" class=\"dataframe\">\n",
       "  <thead>\n",
       "    <tr style=\"text-align: right;\">\n",
       "      <th></th>\n",
       "      <th>appointment_id</th>\n",
       "      <th>practitioner_id</th>\n",
       "      <th>patient_id</th>\n",
       "      <th>clinic_id</th>\n",
       "      <th>appointment_date</th>\n",
       "      <th>revenues</th>\n",
       "    </tr>\n",
       "  </thead>\n",
       "  <tbody>\n",
       "    <tr>\n",
       "      <th>0</th>\n",
       "      <td>0004df0d-3df6-42be-9d68-b646a42a44bb</td>\n",
       "      <td>c7402157-ae44-45cc-b6a7-b348d5dbd417</td>\n",
       "      <td>158184</td>\n",
       "      <td>2</td>\n",
       "      <td>2022-12-22</td>\n",
       "      <td>299.17</td>\n",
       "    </tr>\n",
       "    <tr>\n",
       "      <th>1</th>\n",
       "      <td>000a978e-f134-47b3-ab9e-4f56084be38e</td>\n",
       "      <td>3ca4793d-065e-4112-b023-d1122a2a4b44</td>\n",
       "      <td>112887</td>\n",
       "      <td>2</td>\n",
       "      <td>2022-06-02</td>\n",
       "      <td>124.51</td>\n",
       "    </tr>\n",
       "    <tr>\n",
       "      <th>2</th>\n",
       "      <td>000c1615-0980-4933-9ad1-6f34bb5e188e</td>\n",
       "      <td>c7402157-ae44-45cc-b6a7-b348d5dbd417</td>\n",
       "      <td>141451</td>\n",
       "      <td>2</td>\n",
       "      <td>2022-10-18</td>\n",
       "      <td>85.31</td>\n",
       "    </tr>\n",
       "    <tr>\n",
       "      <th>3</th>\n",
       "      <td>000d8c91-e6a8-4404-bf8b-4951ed8ca1f2</td>\n",
       "      <td>2ea0ca2a-77fc-4447-b57c-62a6cb4d75a1</td>\n",
       "      <td>37516</td>\n",
       "      <td>1</td>\n",
       "      <td>2022-01-06</td>\n",
       "      <td>116.40</td>\n",
       "    </tr>\n",
       "    <tr>\n",
       "      <th>4</th>\n",
       "      <td>0015acc2-484c-491a-b455-0963835a31dd</td>\n",
       "      <td>ed1a5b13-3dc5-4212-b989-f59258b4410e</td>\n",
       "      <td>141833</td>\n",
       "      <td>2</td>\n",
       "      <td>2022-10-14</td>\n",
       "      <td>299.70</td>\n",
       "    </tr>\n",
       "    <tr>\n",
       "      <th>...</th>\n",
       "      <td>...</td>\n",
       "      <td>...</td>\n",
       "      <td>...</td>\n",
       "      <td>...</td>\n",
       "      <td>...</td>\n",
       "      <td>...</td>\n",
       "    </tr>\n",
       "    <tr>\n",
       "      <th>11010</th>\n",
       "      <td>ffe5ef65-a922-416e-ab3f-edd7155fc9c8</td>\n",
       "      <td>c7402157-ae44-45cc-b6a7-b348d5dbd417</td>\n",
       "      <td>121442</td>\n",
       "      <td>2</td>\n",
       "      <td>2022-08-10</td>\n",
       "      <td>336.45</td>\n",
       "    </tr>\n",
       "    <tr>\n",
       "      <th>11011</th>\n",
       "      <td>ffe61232-0eb1-478e-a95d-238f2e424c5e</td>\n",
       "      <td>3ca4793d-065e-4112-b023-d1122a2a4b44</td>\n",
       "      <td>115034</td>\n",
       "      <td>2</td>\n",
       "      <td>2022-05-19</td>\n",
       "      <td>55.85</td>\n",
       "    </tr>\n",
       "    <tr>\n",
       "      <th>11012</th>\n",
       "      <td>ffec22fc-a246-4432-9b9c-448ba57044a8</td>\n",
       "      <td>2ea0ca2a-77fc-4447-b57c-62a6cb4d75a1</td>\n",
       "      <td>23279</td>\n",
       "      <td>1</td>\n",
       "      <td>2022-07-11</td>\n",
       "      <td>143.60</td>\n",
       "    </tr>\n",
       "    <tr>\n",
       "      <th>11013</th>\n",
       "      <td>ffef4a4a-a15b-4820-8b50-861f1c26c666</td>\n",
       "      <td>c7402157-ae44-45cc-b6a7-b348d5dbd417</td>\n",
       "      <td>70565</td>\n",
       "      <td>2</td>\n",
       "      <td>2022-02-09</td>\n",
       "      <td>129.42</td>\n",
       "    </tr>\n",
       "    <tr>\n",
       "      <th>11014</th>\n",
       "      <td>fffdf724-6808-469e-910a-45629b63f613</td>\n",
       "      <td>c7402157-ae44-45cc-b6a7-b348d5dbd417</td>\n",
       "      <td>67361</td>\n",
       "      <td>2</td>\n",
       "      <td>2022-02-01</td>\n",
       "      <td>42.29</td>\n",
       "    </tr>\n",
       "  </tbody>\n",
       "</table>\n",
       "<p>11015 rows × 6 columns</p>\n",
       "</div>"
      ],
      "text/plain": [
       "                             appointment_id  \\\n",
       "0      0004df0d-3df6-42be-9d68-b646a42a44bb   \n",
       "1      000a978e-f134-47b3-ab9e-4f56084be38e   \n",
       "2      000c1615-0980-4933-9ad1-6f34bb5e188e   \n",
       "3      000d8c91-e6a8-4404-bf8b-4951ed8ca1f2   \n",
       "4      0015acc2-484c-491a-b455-0963835a31dd   \n",
       "...                                     ...   \n",
       "11010  ffe5ef65-a922-416e-ab3f-edd7155fc9c8   \n",
       "11011  ffe61232-0eb1-478e-a95d-238f2e424c5e   \n",
       "11012  ffec22fc-a246-4432-9b9c-448ba57044a8   \n",
       "11013  ffef4a4a-a15b-4820-8b50-861f1c26c666   \n",
       "11014  fffdf724-6808-469e-910a-45629b63f613   \n",
       "\n",
       "                            practitioner_id  patient_id  clinic_id  \\\n",
       "0      c7402157-ae44-45cc-b6a7-b348d5dbd417      158184          2   \n",
       "1      3ca4793d-065e-4112-b023-d1122a2a4b44      112887          2   \n",
       "2      c7402157-ae44-45cc-b6a7-b348d5dbd417      141451          2   \n",
       "3      2ea0ca2a-77fc-4447-b57c-62a6cb4d75a1       37516          1   \n",
       "4      ed1a5b13-3dc5-4212-b989-f59258b4410e      141833          2   \n",
       "...                                     ...         ...        ...   \n",
       "11010  c7402157-ae44-45cc-b6a7-b348d5dbd417      121442          2   \n",
       "11011  3ca4793d-065e-4112-b023-d1122a2a4b44      115034          2   \n",
       "11012  2ea0ca2a-77fc-4447-b57c-62a6cb4d75a1       23279          1   \n",
       "11013  c7402157-ae44-45cc-b6a7-b348d5dbd417       70565          2   \n",
       "11014  c7402157-ae44-45cc-b6a7-b348d5dbd417       67361          2   \n",
       "\n",
       "      appointment_date  revenues  \n",
       "0           2022-12-22    299.17  \n",
       "1           2022-06-02    124.51  \n",
       "2           2022-10-18     85.31  \n",
       "3           2022-01-06    116.40  \n",
       "4           2022-10-14    299.70  \n",
       "...                ...       ...  \n",
       "11010       2022-08-10    336.45  \n",
       "11011       2022-05-19     55.85  \n",
       "11012       2022-07-11    143.60  \n",
       "11013       2022-02-09    129.42  \n",
       "11014       2022-02-01     42.29  \n",
       "\n",
       "[11015 rows x 6 columns]"
      ]
     },
     "execution_count": 7,
     "metadata": {},
     "output_type": "execute_result"
    }
   ],
   "source": [
    "data"
   ]
  },
  {
   "cell_type": "markdown",
   "id": "ebd1c60d-c340-4919-be8e-899fd9f9c08a",
   "metadata": {},
   "source": [
    "# N_unique of patients"
   ]
  },
  {
   "cell_type": "code",
   "execution_count": 8,
   "id": "e453b18e-b6fd-4bdb-a637-813f56733a69",
   "metadata": {},
   "outputs": [
    {
     "data": {
      "text/html": [
       "<div>\n",
       "<style scoped>\n",
       "    .dataframe tbody tr th:only-of-type {\n",
       "        vertical-align: middle;\n",
       "    }\n",
       "\n",
       "    .dataframe tbody tr th {\n",
       "        vertical-align: top;\n",
       "    }\n",
       "\n",
       "    .dataframe thead th {\n",
       "        text-align: right;\n",
       "    }\n",
       "</style>\n",
       "<table border=\"1\" class=\"dataframe\">\n",
       "  <thead>\n",
       "    <tr style=\"text-align: right;\">\n",
       "      <th></th>\n",
       "      <th>patient_id</th>\n",
       "      <th>clinic_id</th>\n",
       "      <th>revenues</th>\n",
       "    </tr>\n",
       "  </thead>\n",
       "  <tbody>\n",
       "    <tr>\n",
       "      <th>count</th>\n",
       "      <td>11015.000000</td>\n",
       "      <td>11015.000000</td>\n",
       "      <td>10902.000000</td>\n",
       "    </tr>\n",
       "    <tr>\n",
       "      <th>mean</th>\n",
       "      <td>75955.592828</td>\n",
       "      <td>1.515842</td>\n",
       "      <td>174.671997</td>\n",
       "    </tr>\n",
       "    <tr>\n",
       "      <th>std</th>\n",
       "      <td>41118.267892</td>\n",
       "      <td>0.499772</td>\n",
       "      <td>440.630226</td>\n",
       "    </tr>\n",
       "    <tr>\n",
       "      <th>min</th>\n",
       "      <td>18069.000000</td>\n",
       "      <td>1.000000</td>\n",
       "      <td>0.800000</td>\n",
       "    </tr>\n",
       "    <tr>\n",
       "      <th>25%</th>\n",
       "      <td>41707.000000</td>\n",
       "      <td>1.000000</td>\n",
       "      <td>32.890000</td>\n",
       "    </tr>\n",
       "    <tr>\n",
       "      <th>50%</th>\n",
       "      <td>68319.000000</td>\n",
       "      <td>2.000000</td>\n",
       "      <td>76.900000</td>\n",
       "    </tr>\n",
       "    <tr>\n",
       "      <th>75%</th>\n",
       "      <td>113273.000000</td>\n",
       "      <td>2.000000</td>\n",
       "      <td>179.320000</td>\n",
       "    </tr>\n",
       "    <tr>\n",
       "      <th>max</th>\n",
       "      <td>160196.000000</td>\n",
       "      <td>2.000000</td>\n",
       "      <td>15082.980000</td>\n",
       "    </tr>\n",
       "  </tbody>\n",
       "</table>\n",
       "</div>"
      ],
      "text/plain": [
       "          patient_id     clinic_id      revenues\n",
       "count   11015.000000  11015.000000  10902.000000\n",
       "mean    75955.592828      1.515842    174.671997\n",
       "std     41118.267892      0.499772    440.630226\n",
       "min     18069.000000      1.000000      0.800000\n",
       "25%     41707.000000      1.000000     32.890000\n",
       "50%     68319.000000      2.000000     76.900000\n",
       "75%    113273.000000      2.000000    179.320000\n",
       "max    160196.000000      2.000000  15082.980000"
      ]
     },
     "execution_count": 8,
     "metadata": {},
     "output_type": "execute_result"
    }
   ],
   "source": [
    "data.describe()"
   ]
  },
  {
   "cell_type": "code",
   "execution_count": 9,
   "id": "d7d65214-2aac-49bc-9cab-fe4b324a9908",
   "metadata": {},
   "outputs": [
    {
     "data": {
      "text/plain": [
       "3977"
      ]
     },
     "execution_count": 9,
     "metadata": {},
     "output_type": "execute_result"
    }
   ],
   "source": [
    "data.patient_id.nunique()"
   ]
  },
  {
   "cell_type": "code",
   "execution_count": 10,
   "id": "9d55e5be-71cf-495c-8c48-9dce824677bf",
   "metadata": {},
   "outputs": [
    {
     "data": {
      "text/plain": [
       "165.70833333333334"
      ]
     },
     "execution_count": 10,
     "metadata": {},
     "output_type": "execute_result"
    }
   ],
   "source": [
    "#new_unique_clients_per_month\n",
    "3977/24"
   ]
  },
  {
   "cell_type": "code",
   "execution_count": 11,
   "id": "205d2590-1c7e-44f3-90d3-e3f503fca482",
   "metadata": {},
   "outputs": [
    {
     "data": {
      "text/plain": [
       "1657.0"
      ]
     },
     "execution_count": 11,
     "metadata": {},
     "output_type": "execute_result"
    }
   ],
   "source": [
    "march = 10 *165.7\n",
    "march"
   ]
  },
  {
   "cell_type": "code",
   "execution_count": 12,
   "id": "4d14423b-1ebb-4135-9af8-43617b0bee47",
   "metadata": {},
   "outputs": [
    {
     "data": {
      "text/plain": [
       "994.1999999999999"
      ]
     },
     "execution_count": 12,
     "metadata": {},
     "output_type": "execute_result"
    }
   ],
   "source": [
    "july = 6 *165.7\n",
    "july"
   ]
  },
  {
   "cell_type": "code",
   "execution_count": 13,
   "id": "fdf2972f-8d5b-4f27-9a44-ff097ac78a70",
   "metadata": {},
   "outputs": [
    {
     "data": {
      "text/plain": [
       "6628.1900000000005"
      ]
     },
     "execution_count": 13,
     "metadata": {},
     "output_type": "execute_result"
    }
   ],
   "source": [
    "clients_2023 = 3977 + 1657.0 +994.19\n",
    "clients_2023"
   ]
  },
  {
   "cell_type": "code",
   "execution_count": 18,
   "id": "c23b8431-6571-4c97-b073-335ba2360ae6",
   "metadata": {},
   "outputs": [
    {
     "data": {
      "text/html": [
       "<div>\n",
       "<style scoped>\n",
       "    .dataframe tbody tr th:only-of-type {\n",
       "        vertical-align: middle;\n",
       "    }\n",
       "\n",
       "    .dataframe tbody tr th {\n",
       "        vertical-align: top;\n",
       "    }\n",
       "\n",
       "    .dataframe thead th {\n",
       "        text-align: right;\n",
       "    }\n",
       "</style>\n",
       "<table border=\"1\" class=\"dataframe\">\n",
       "  <thead>\n",
       "    <tr style=\"text-align: right;\">\n",
       "      <th></th>\n",
       "      <th>appointment_id</th>\n",
       "      <th>practitioner_id</th>\n",
       "      <th>patient_id</th>\n",
       "      <th>clinic_id</th>\n",
       "      <th>appointment_date</th>\n",
       "      <th>revenues</th>\n",
       "    </tr>\n",
       "  </thead>\n",
       "  <tbody>\n",
       "    <tr>\n",
       "      <th>0</th>\n",
       "      <td>0004df0d-3df6-42be-9d68-b646a42a44bb</td>\n",
       "      <td>c7402157-ae44-45cc-b6a7-b348d5dbd417</td>\n",
       "      <td>158184</td>\n",
       "      <td>2</td>\n",
       "      <td>2022-12-22</td>\n",
       "      <td>299.17</td>\n",
       "    </tr>\n",
       "    <tr>\n",
       "      <th>1</th>\n",
       "      <td>000a978e-f134-47b3-ab9e-4f56084be38e</td>\n",
       "      <td>3ca4793d-065e-4112-b023-d1122a2a4b44</td>\n",
       "      <td>112887</td>\n",
       "      <td>2</td>\n",
       "      <td>2022-06-02</td>\n",
       "      <td>124.51</td>\n",
       "    </tr>\n",
       "    <tr>\n",
       "      <th>2</th>\n",
       "      <td>000c1615-0980-4933-9ad1-6f34bb5e188e</td>\n",
       "      <td>c7402157-ae44-45cc-b6a7-b348d5dbd417</td>\n",
       "      <td>141451</td>\n",
       "      <td>2</td>\n",
       "      <td>2022-10-18</td>\n",
       "      <td>85.31</td>\n",
       "    </tr>\n",
       "    <tr>\n",
       "      <th>3</th>\n",
       "      <td>000d8c91-e6a8-4404-bf8b-4951ed8ca1f2</td>\n",
       "      <td>2ea0ca2a-77fc-4447-b57c-62a6cb4d75a1</td>\n",
       "      <td>37516</td>\n",
       "      <td>1</td>\n",
       "      <td>2022-01-06</td>\n",
       "      <td>116.40</td>\n",
       "    </tr>\n",
       "    <tr>\n",
       "      <th>4</th>\n",
       "      <td>0015acc2-484c-491a-b455-0963835a31dd</td>\n",
       "      <td>ed1a5b13-3dc5-4212-b989-f59258b4410e</td>\n",
       "      <td>141833</td>\n",
       "      <td>2</td>\n",
       "      <td>2022-10-14</td>\n",
       "      <td>299.70</td>\n",
       "    </tr>\n",
       "    <tr>\n",
       "      <th>...</th>\n",
       "      <td>...</td>\n",
       "      <td>...</td>\n",
       "      <td>...</td>\n",
       "      <td>...</td>\n",
       "      <td>...</td>\n",
       "      <td>...</td>\n",
       "    </tr>\n",
       "    <tr>\n",
       "      <th>11010</th>\n",
       "      <td>ffe5ef65-a922-416e-ab3f-edd7155fc9c8</td>\n",
       "      <td>c7402157-ae44-45cc-b6a7-b348d5dbd417</td>\n",
       "      <td>121442</td>\n",
       "      <td>2</td>\n",
       "      <td>2022-08-10</td>\n",
       "      <td>336.45</td>\n",
       "    </tr>\n",
       "    <tr>\n",
       "      <th>11011</th>\n",
       "      <td>ffe61232-0eb1-478e-a95d-238f2e424c5e</td>\n",
       "      <td>3ca4793d-065e-4112-b023-d1122a2a4b44</td>\n",
       "      <td>115034</td>\n",
       "      <td>2</td>\n",
       "      <td>2022-05-19</td>\n",
       "      <td>55.85</td>\n",
       "    </tr>\n",
       "    <tr>\n",
       "      <th>11012</th>\n",
       "      <td>ffec22fc-a246-4432-9b9c-448ba57044a8</td>\n",
       "      <td>2ea0ca2a-77fc-4447-b57c-62a6cb4d75a1</td>\n",
       "      <td>23279</td>\n",
       "      <td>1</td>\n",
       "      <td>2022-07-11</td>\n",
       "      <td>143.60</td>\n",
       "    </tr>\n",
       "    <tr>\n",
       "      <th>11013</th>\n",
       "      <td>ffef4a4a-a15b-4820-8b50-861f1c26c666</td>\n",
       "      <td>c7402157-ae44-45cc-b6a7-b348d5dbd417</td>\n",
       "      <td>70565</td>\n",
       "      <td>2</td>\n",
       "      <td>2022-02-09</td>\n",
       "      <td>129.42</td>\n",
       "    </tr>\n",
       "    <tr>\n",
       "      <th>11014</th>\n",
       "      <td>fffdf724-6808-469e-910a-45629b63f613</td>\n",
       "      <td>c7402157-ae44-45cc-b6a7-b348d5dbd417</td>\n",
       "      <td>67361</td>\n",
       "      <td>2</td>\n",
       "      <td>2022-02-01</td>\n",
       "      <td>42.29</td>\n",
       "    </tr>\n",
       "  </tbody>\n",
       "</table>\n",
       "<p>11015 rows × 6 columns</p>\n",
       "</div>"
      ],
      "text/plain": [
       "                             appointment_id  \\\n",
       "0      0004df0d-3df6-42be-9d68-b646a42a44bb   \n",
       "1      000a978e-f134-47b3-ab9e-4f56084be38e   \n",
       "2      000c1615-0980-4933-9ad1-6f34bb5e188e   \n",
       "3      000d8c91-e6a8-4404-bf8b-4951ed8ca1f2   \n",
       "4      0015acc2-484c-491a-b455-0963835a31dd   \n",
       "...                                     ...   \n",
       "11010  ffe5ef65-a922-416e-ab3f-edd7155fc9c8   \n",
       "11011  ffe61232-0eb1-478e-a95d-238f2e424c5e   \n",
       "11012  ffec22fc-a246-4432-9b9c-448ba57044a8   \n",
       "11013  ffef4a4a-a15b-4820-8b50-861f1c26c666   \n",
       "11014  fffdf724-6808-469e-910a-45629b63f613   \n",
       "\n",
       "                            practitioner_id  patient_id  clinic_id  \\\n",
       "0      c7402157-ae44-45cc-b6a7-b348d5dbd417      158184          2   \n",
       "1      3ca4793d-065e-4112-b023-d1122a2a4b44      112887          2   \n",
       "2      c7402157-ae44-45cc-b6a7-b348d5dbd417      141451          2   \n",
       "3      2ea0ca2a-77fc-4447-b57c-62a6cb4d75a1       37516          1   \n",
       "4      ed1a5b13-3dc5-4212-b989-f59258b4410e      141833          2   \n",
       "...                                     ...         ...        ...   \n",
       "11010  c7402157-ae44-45cc-b6a7-b348d5dbd417      121442          2   \n",
       "11011  3ca4793d-065e-4112-b023-d1122a2a4b44      115034          2   \n",
       "11012  2ea0ca2a-77fc-4447-b57c-62a6cb4d75a1       23279          1   \n",
       "11013  c7402157-ae44-45cc-b6a7-b348d5dbd417       70565          2   \n",
       "11014  c7402157-ae44-45cc-b6a7-b348d5dbd417       67361          2   \n",
       "\n",
       "      appointment_date  revenues  \n",
       "0           2022-12-22    299.17  \n",
       "1           2022-06-02    124.51  \n",
       "2           2022-10-18     85.31  \n",
       "3           2022-01-06    116.40  \n",
       "4           2022-10-14    299.70  \n",
       "...                ...       ...  \n",
       "11010       2022-08-10    336.45  \n",
       "11011       2022-05-19     55.85  \n",
       "11012       2022-07-11    143.60  \n",
       "11013       2022-02-09    129.42  \n",
       "11014       2022-02-01     42.29  \n",
       "\n",
       "[11015 rows x 6 columns]"
      ]
     },
     "execution_count": 18,
     "metadata": {},
     "output_type": "execute_result"
    }
   ],
   "source": [
    "data"
   ]
  },
  {
   "cell_type": "code",
   "execution_count": 21,
   "id": "d1aa7bcc-44c0-4fe4-87bb-e9d9ec7ce439",
   "metadata": {},
   "outputs": [
    {
     "data": {
      "text/plain": [
       "month\n",
       "1     239\n",
       "2     266\n",
       "3     282\n",
       "6     293\n",
       "4     294\n",
       "8     296\n",
       "5     315\n",
       "7     316\n",
       "9     433\n",
       "10    452\n",
       "11    491\n",
       "12    510\n",
       "Name: patient_id, dtype: int64"
      ]
     },
     "execution_count": 21,
     "metadata": {},
     "output_type": "execute_result"
    }
   ],
   "source": [
    "data.loc[(data['clinic_id']==2)].groupby('month').patient_id.nunique().sort_values()"
   ]
  },
  {
   "cell_type": "code",
   "execution_count": 22,
   "id": "af22dadc-fd5a-4a96-ac73-3e2ce3c7841d",
   "metadata": {},
   "outputs": [
    {
     "data": {
      "text/plain": [
       "2372"
      ]
     },
     "execution_count": 22,
     "metadata": {},
     "output_type": "execute_result"
    }
   ],
   "source": [
    "data.loc[(data['clinic_id']==2)].patient_id.nunique()"
   ]
  },
  {
   "cell_type": "code",
   "execution_count": 23,
   "id": "a2e5ef6f-7d6b-4ee1-91ae-678a1c8cbfa9",
   "metadata": {},
   "outputs": [
    {
     "data": {
      "text/plain": [
       "month\n",
       "1       NaN\n",
       "2      27.0\n",
       "3      16.0\n",
       "4      12.0\n",
       "5      21.0\n",
       "6     -22.0\n",
       "7      23.0\n",
       "8     -20.0\n",
       "9     137.0\n",
       "10     19.0\n",
       "11     39.0\n",
       "12     19.0\n",
       "Name: patient_id, dtype: float64"
      ]
     },
     "execution_count": 23,
     "metadata": {},
     "output_type": "execute_result"
    }
   ],
   "source": [
    "data.loc[(data['clinic_id']==2)].groupby('month').patient_id.nunique().diff()"
   ]
  },
  {
   "cell_type": "code",
   "execution_count": 24,
   "id": "f4535c06-293b-47ad-b519-112a996e6994",
   "metadata": {},
   "outputs": [
    {
     "data": {
      "text/plain": [
       "24.636363636363637"
      ]
     },
     "execution_count": 24,
     "metadata": {},
     "output_type": "execute_result"
    }
   ],
   "source": [
    "data.loc[(data['clinic_id']==2)].groupby('month').patient_id.nunique().sort_values().diff().mean()"
   ]
  },
  {
   "cell_type": "code",
   "execution_count": 25,
   "id": "dfb48573-1636-4158-b4cb-637b59f8b7c9",
   "metadata": {},
   "outputs": [
    {
     "data": {
      "text/plain": [
       "month\n",
       "3     233\n",
       "6     243\n",
       "2     244\n",
       "1     260\n",
       "4     261\n",
       "5     267\n",
       "9     307\n",
       "7     315\n",
       "10    317\n",
       "11    325\n",
       "8     348\n",
       "12    378\n",
       "Name: patient_id, dtype: int64"
      ]
     },
     "execution_count": 25,
     "metadata": {},
     "output_type": "execute_result"
    }
   ],
   "source": [
    "data.loc[(data['clinic_id']==1)].groupby('month').patient_id.nunique().sort_values()"
   ]
  },
  {
   "cell_type": "code",
   "execution_count": 26,
   "id": "7bd86708-5f61-4e5c-9800-c30eb7b093c0",
   "metadata": {},
   "outputs": [
    {
     "data": {
      "text/plain": [
       "month\n",
       "1      NaN\n",
       "2    -16.0\n",
       "3    -11.0\n",
       "4     28.0\n",
       "5      6.0\n",
       "6    -24.0\n",
       "7     72.0\n",
       "8     33.0\n",
       "9    -41.0\n",
       "10    10.0\n",
       "11     8.0\n",
       "12    53.0\n",
       "Name: patient_id, dtype: float64"
      ]
     },
     "execution_count": 26,
     "metadata": {},
     "output_type": "execute_result"
    }
   ],
   "source": [
    "data.loc[(data['clinic_id']==1)].groupby('month').patient_id.nunique().diff()"
   ]
  },
  {
   "cell_type": "code",
   "execution_count": 27,
   "id": "27f45721-f3fb-4936-bbc1-b30adc855f6e",
   "metadata": {},
   "outputs": [
    {
     "data": {
      "text/plain": [
       "1605"
      ]
     },
     "execution_count": 27,
     "metadata": {},
     "output_type": "execute_result"
    }
   ],
   "source": [
    "data.loc[(data['clinic_id']==1)].patient_id.nunique()"
   ]
  },
  {
   "cell_type": "code",
   "execution_count": 28,
   "id": "48358031-c754-436f-9f1d-8b474c43de08",
   "metadata": {},
   "outputs": [
    {
     "data": {
      "text/plain": [
       "13.181818181818182"
      ]
     },
     "execution_count": 28,
     "metadata": {},
     "output_type": "execute_result"
    }
   ],
   "source": [
    "data.loc[(data['clinic_id']==1)].groupby('month').patient_id.nunique().sort_values().diff().mean()"
   ]
  },
  {
   "cell_type": "code",
   "execution_count": 15,
   "id": "4167382e-19f0-4be6-87c8-661b73d537b8",
   "metadata": {},
   "outputs": [
    {
     "data": {
      "text/plain": [
       "18.90909090909091"
      ]
     },
     "execution_count": 15,
     "metadata": {},
     "output_type": "execute_result"
    }
   ],
   "source": [
    "(24.636363636363637+13.181818181818182)/2"
   ]
  },
  {
   "cell_type": "code",
   "execution_count": null,
   "id": "273582ee-82c2-40ad-8f1b-c61c7cefc21f",
   "metadata": {},
   "outputs": [],
   "source": [
    "# new clinics will start from averega number of clients 236 clients\n",
    "# and every new month + avr 18 clients"
   ]
  },
  {
   "cell_type": "code",
   "execution_count": 29,
   "id": "2aca9929-7335-4641-b288-2774bfbedd9b",
   "metadata": {},
   "outputs": [
    {
     "data": {
      "text/plain": [
       "<pandas.core.groupby.generic.DataFrameGroupBy object at 0x7f77a0165c30>"
      ]
     },
     "execution_count": 29,
     "metadata": {},
     "output_type": "execute_result"
    }
   ],
   "source": [
    "data.loc[(data['clinic_id']==2)].groupby('month')"
   ]
  },
  {
   "cell_type": "code",
   "execution_count": 30,
   "id": "f3b10fa2-5703-463c-8f71-e6a796ba906b",
   "metadata": {},
   "outputs": [],
   "source": [
    "patient = data.groupby('patient_id').revenues.mean()"
   ]
  },
  {
   "cell_type": "code",
   "execution_count": 31,
   "id": "14a7a3e7-1c93-403e-ad38-b56838e1d495",
   "metadata": {},
   "outputs": [
    {
     "data": {
      "text/plain": [
       "128.69274658925195"
      ]
     },
     "execution_count": 31,
     "metadata": {},
     "output_type": "execute_result"
    }
   ],
   "source": [
    "patient.mean()"
   ]
  },
  {
   "cell_type": "code",
   "execution_count": 32,
   "id": "5dce5c3e-21ab-442c-9cbd-27021f868639",
   "metadata": {},
   "outputs": [
    {
     "data": {
      "text/plain": [
       "294"
      ]
     },
     "execution_count": 32,
     "metadata": {},
     "output_type": "execute_result"
    }
   ],
   "source": [
    "data.appointment_date.nunique()"
   ]
  },
  {
   "cell_type": "markdown",
   "id": "2aedcc03-ea02-4f9c-b51a-103f85c0483e",
   "metadata": {},
   "source": [
    "# MONTHS"
   ]
  },
  {
   "cell_type": "code",
   "execution_count": 20,
   "id": "1f48de11-d467-4621-bed2-7cf7c101732a",
   "metadata": {},
   "outputs": [],
   "source": [
    "data.appointment_date = pd.to_datetime(data.appointment_date)"
   ]
  },
  {
   "cell_type": "code",
   "execution_count": 33,
   "id": "e2c6f63a-c283-485f-8b04-801f930b4cf3",
   "metadata": {},
   "outputs": [],
   "source": [
    "data['month'] = data.appointment_date.dt.month  #strftime('%b') names"
   ]
  },
  {
   "cell_type": "code",
   "execution_count": 34,
   "id": "1d80b7d7-94b6-4e46-b8a2-ceb27cc55cc7",
   "metadata": {},
   "outputs": [
    {
     "data": {
      "text/plain": [
       "month\n",
       "1      98149.780\n",
       "2     125227.635\n",
       "3     151705.875\n",
       "4     146936.540\n",
       "5     144192.080\n",
       "6     160837.670\n",
       "7     181325.570\n",
       "8     137464.565\n",
       "9     184714.875\n",
       "10    181327.730\n",
       "11    193002.820\n",
       "12    199388.970\n",
       "Name: revenues, dtype: float64"
      ]
     },
     "execution_count": 34,
     "metadata": {},
     "output_type": "execute_result"
    }
   ],
   "source": [
    "data.groupby('month').revenues.sum()"
   ]
  },
  {
   "cell_type": "code",
   "execution_count": 35,
   "id": "1da25a0b-3e68-4e8c-bae4-33e3c2bc93df",
   "metadata": {},
   "outputs": [
    {
     "data": {
      "text/html": [
       "<div>\n",
       "<style scoped>\n",
       "    .dataframe tbody tr th:only-of-type {\n",
       "        vertical-align: middle;\n",
       "    }\n",
       "\n",
       "    .dataframe tbody tr th {\n",
       "        vertical-align: top;\n",
       "    }\n",
       "\n",
       "    .dataframe thead th {\n",
       "        text-align: right;\n",
       "    }\n",
       "</style>\n",
       "<table border=\"1\" class=\"dataframe\">\n",
       "  <thead>\n",
       "    <tr style=\"text-align: right;\">\n",
       "      <th></th>\n",
       "      <th>appointment_id</th>\n",
       "      <th>practitioner_id</th>\n",
       "      <th>patient_id</th>\n",
       "      <th>clinic_id</th>\n",
       "      <th>appointment_date</th>\n",
       "      <th>revenues</th>\n",
       "      <th>month</th>\n",
       "    </tr>\n",
       "  </thead>\n",
       "  <tbody>\n",
       "    <tr>\n",
       "      <th>0</th>\n",
       "      <td>0004df0d-3df6-42be-9d68-b646a42a44bb</td>\n",
       "      <td>c7402157-ae44-45cc-b6a7-b348d5dbd417</td>\n",
       "      <td>158184</td>\n",
       "      <td>2</td>\n",
       "      <td>2022-12-22</td>\n",
       "      <td>299.17</td>\n",
       "      <td>12</td>\n",
       "    </tr>\n",
       "    <tr>\n",
       "      <th>1</th>\n",
       "      <td>000a978e-f134-47b3-ab9e-4f56084be38e</td>\n",
       "      <td>3ca4793d-065e-4112-b023-d1122a2a4b44</td>\n",
       "      <td>112887</td>\n",
       "      <td>2</td>\n",
       "      <td>2022-06-02</td>\n",
       "      <td>124.51</td>\n",
       "      <td>6</td>\n",
       "    </tr>\n",
       "    <tr>\n",
       "      <th>2</th>\n",
       "      <td>000c1615-0980-4933-9ad1-6f34bb5e188e</td>\n",
       "      <td>c7402157-ae44-45cc-b6a7-b348d5dbd417</td>\n",
       "      <td>141451</td>\n",
       "      <td>2</td>\n",
       "      <td>2022-10-18</td>\n",
       "      <td>85.31</td>\n",
       "      <td>10</td>\n",
       "    </tr>\n",
       "    <tr>\n",
       "      <th>3</th>\n",
       "      <td>000d8c91-e6a8-4404-bf8b-4951ed8ca1f2</td>\n",
       "      <td>2ea0ca2a-77fc-4447-b57c-62a6cb4d75a1</td>\n",
       "      <td>37516</td>\n",
       "      <td>1</td>\n",
       "      <td>2022-01-06</td>\n",
       "      <td>116.40</td>\n",
       "      <td>1</td>\n",
       "    </tr>\n",
       "    <tr>\n",
       "      <th>4</th>\n",
       "      <td>0015acc2-484c-491a-b455-0963835a31dd</td>\n",
       "      <td>ed1a5b13-3dc5-4212-b989-f59258b4410e</td>\n",
       "      <td>141833</td>\n",
       "      <td>2</td>\n",
       "      <td>2022-10-14</td>\n",
       "      <td>299.70</td>\n",
       "      <td>10</td>\n",
       "    </tr>\n",
       "    <tr>\n",
       "      <th>...</th>\n",
       "      <td>...</td>\n",
       "      <td>...</td>\n",
       "      <td>...</td>\n",
       "      <td>...</td>\n",
       "      <td>...</td>\n",
       "      <td>...</td>\n",
       "      <td>...</td>\n",
       "    </tr>\n",
       "    <tr>\n",
       "      <th>11010</th>\n",
       "      <td>ffe5ef65-a922-416e-ab3f-edd7155fc9c8</td>\n",
       "      <td>c7402157-ae44-45cc-b6a7-b348d5dbd417</td>\n",
       "      <td>121442</td>\n",
       "      <td>2</td>\n",
       "      <td>2022-08-10</td>\n",
       "      <td>336.45</td>\n",
       "      <td>8</td>\n",
       "    </tr>\n",
       "    <tr>\n",
       "      <th>11011</th>\n",
       "      <td>ffe61232-0eb1-478e-a95d-238f2e424c5e</td>\n",
       "      <td>3ca4793d-065e-4112-b023-d1122a2a4b44</td>\n",
       "      <td>115034</td>\n",
       "      <td>2</td>\n",
       "      <td>2022-05-19</td>\n",
       "      <td>55.85</td>\n",
       "      <td>5</td>\n",
       "    </tr>\n",
       "    <tr>\n",
       "      <th>11012</th>\n",
       "      <td>ffec22fc-a246-4432-9b9c-448ba57044a8</td>\n",
       "      <td>2ea0ca2a-77fc-4447-b57c-62a6cb4d75a1</td>\n",
       "      <td>23279</td>\n",
       "      <td>1</td>\n",
       "      <td>2022-07-11</td>\n",
       "      <td>143.60</td>\n",
       "      <td>7</td>\n",
       "    </tr>\n",
       "    <tr>\n",
       "      <th>11013</th>\n",
       "      <td>ffef4a4a-a15b-4820-8b50-861f1c26c666</td>\n",
       "      <td>c7402157-ae44-45cc-b6a7-b348d5dbd417</td>\n",
       "      <td>70565</td>\n",
       "      <td>2</td>\n",
       "      <td>2022-02-09</td>\n",
       "      <td>129.42</td>\n",
       "      <td>2</td>\n",
       "    </tr>\n",
       "    <tr>\n",
       "      <th>11014</th>\n",
       "      <td>fffdf724-6808-469e-910a-45629b63f613</td>\n",
       "      <td>c7402157-ae44-45cc-b6a7-b348d5dbd417</td>\n",
       "      <td>67361</td>\n",
       "      <td>2</td>\n",
       "      <td>2022-02-01</td>\n",
       "      <td>42.29</td>\n",
       "      <td>2</td>\n",
       "    </tr>\n",
       "  </tbody>\n",
       "</table>\n",
       "<p>11015 rows × 7 columns</p>\n",
       "</div>"
      ],
      "text/plain": [
       "                             appointment_id  \\\n",
       "0      0004df0d-3df6-42be-9d68-b646a42a44bb   \n",
       "1      000a978e-f134-47b3-ab9e-4f56084be38e   \n",
       "2      000c1615-0980-4933-9ad1-6f34bb5e188e   \n",
       "3      000d8c91-e6a8-4404-bf8b-4951ed8ca1f2   \n",
       "4      0015acc2-484c-491a-b455-0963835a31dd   \n",
       "...                                     ...   \n",
       "11010  ffe5ef65-a922-416e-ab3f-edd7155fc9c8   \n",
       "11011  ffe61232-0eb1-478e-a95d-238f2e424c5e   \n",
       "11012  ffec22fc-a246-4432-9b9c-448ba57044a8   \n",
       "11013  ffef4a4a-a15b-4820-8b50-861f1c26c666   \n",
       "11014  fffdf724-6808-469e-910a-45629b63f613   \n",
       "\n",
       "                            practitioner_id  patient_id  clinic_id  \\\n",
       "0      c7402157-ae44-45cc-b6a7-b348d5dbd417      158184          2   \n",
       "1      3ca4793d-065e-4112-b023-d1122a2a4b44      112887          2   \n",
       "2      c7402157-ae44-45cc-b6a7-b348d5dbd417      141451          2   \n",
       "3      2ea0ca2a-77fc-4447-b57c-62a6cb4d75a1       37516          1   \n",
       "4      ed1a5b13-3dc5-4212-b989-f59258b4410e      141833          2   \n",
       "...                                     ...         ...        ...   \n",
       "11010  c7402157-ae44-45cc-b6a7-b348d5dbd417      121442          2   \n",
       "11011  3ca4793d-065e-4112-b023-d1122a2a4b44      115034          2   \n",
       "11012  2ea0ca2a-77fc-4447-b57c-62a6cb4d75a1       23279          1   \n",
       "11013  c7402157-ae44-45cc-b6a7-b348d5dbd417       70565          2   \n",
       "11014  c7402157-ae44-45cc-b6a7-b348d5dbd417       67361          2   \n",
       "\n",
       "      appointment_date  revenues  month  \n",
       "0           2022-12-22    299.17     12  \n",
       "1           2022-06-02    124.51      6  \n",
       "2           2022-10-18     85.31     10  \n",
       "3           2022-01-06    116.40      1  \n",
       "4           2022-10-14    299.70     10  \n",
       "...                ...       ...    ...  \n",
       "11010       2022-08-10    336.45      8  \n",
       "11011       2022-05-19     55.85      5  \n",
       "11012       2022-07-11    143.60      7  \n",
       "11013       2022-02-09    129.42      2  \n",
       "11014       2022-02-01     42.29      2  \n",
       "\n",
       "[11015 rows x 7 columns]"
      ]
     },
     "execution_count": 35,
     "metadata": {},
     "output_type": "execute_result"
    }
   ],
   "source": [
    "data"
   ]
  },
  {
   "cell_type": "code",
   "execution_count": 36,
   "id": "9882727c-65d9-4b05-8a60-96d040f700b0",
   "metadata": {},
   "outputs": [],
   "source": [
    "#MONTHS\n",
    "#months_in_order = ['January',\n",
    "# 'February',\n",
    "# 'March',\n",
    "# 'April',\n",
    "# 'May',\n",
    "# 'June',\n",
    "# 'July',\n",
    "# 'August',\n",
    "# 'September',\n",
    " #'October',\n",
    "# 'November',\n",
    "# 'December']"
   ]
  },
  {
   "cell_type": "code",
   "execution_count": null,
   "id": "5e689efd-bd43-497c-9000-13fde97b2aa2",
   "metadata": {},
   "outputs": [],
   "source": [
    "#data.month = pd.Categorical(\n",
    "#    data.month,\n",
    "#    categories=months_in_order,\n",
    "#    ordered=True\n",
    "#)"
   ]
  },
  {
   "cell_type": "code",
   "execution_count": 37,
   "id": "1e038b02-b3c4-4050-bddc-34bc841edab1",
   "metadata": {},
   "outputs": [
    {
     "data": {
      "text/html": [
       "<div>\n",
       "<style scoped>\n",
       "    .dataframe tbody tr th:only-of-type {\n",
       "        vertical-align: middle;\n",
       "    }\n",
       "\n",
       "    .dataframe tbody tr th {\n",
       "        vertical-align: top;\n",
       "    }\n",
       "\n",
       "    .dataframe thead th {\n",
       "        text-align: right;\n",
       "    }\n",
       "</style>\n",
       "<table border=\"1\" class=\"dataframe\">\n",
       "  <thead>\n",
       "    <tr style=\"text-align: right;\">\n",
       "      <th></th>\n",
       "      <th></th>\n",
       "      <th>patient_id</th>\n",
       "      <th>revenues</th>\n",
       "    </tr>\n",
       "    <tr>\n",
       "      <th>month</th>\n",
       "      <th>clinic_id</th>\n",
       "      <th></th>\n",
       "      <th></th>\n",
       "    </tr>\n",
       "  </thead>\n",
       "  <tbody>\n",
       "    <tr>\n",
       "      <th rowspan=\"2\" valign=\"top\">1</th>\n",
       "      <th>1</th>\n",
       "      <td>12333586</td>\n",
       "      <td>49252.010</td>\n",
       "    </tr>\n",
       "    <tr>\n",
       "      <th>2</th>\n",
       "      <td>21212091</td>\n",
       "      <td>48897.770</td>\n",
       "    </tr>\n",
       "    <tr>\n",
       "      <th rowspan=\"2\" valign=\"top\">2</th>\n",
       "      <th>1</th>\n",
       "      <td>12945015</td>\n",
       "      <td>67169.450</td>\n",
       "    </tr>\n",
       "    <tr>\n",
       "      <th>2</th>\n",
       "      <td>25554535</td>\n",
       "      <td>58058.185</td>\n",
       "    </tr>\n",
       "    <tr>\n",
       "      <th rowspan=\"2\" valign=\"top\">3</th>\n",
       "      <th>1</th>\n",
       "      <td>11734408</td>\n",
       "      <td>90365.660</td>\n",
       "    </tr>\n",
       "    <tr>\n",
       "      <th>2</th>\n",
       "      <td>31727060</td>\n",
       "      <td>61340.215</td>\n",
       "    </tr>\n",
       "    <tr>\n",
       "      <th rowspan=\"2\" valign=\"top\">4</th>\n",
       "      <th>1</th>\n",
       "      <td>14683820</td>\n",
       "      <td>87678.270</td>\n",
       "    </tr>\n",
       "    <tr>\n",
       "      <th>2</th>\n",
       "      <td>35041027</td>\n",
       "      <td>59258.270</td>\n",
       "    </tr>\n",
       "    <tr>\n",
       "      <th rowspan=\"2\" valign=\"top\">5</th>\n",
       "      <th>1</th>\n",
       "      <td>15907690</td>\n",
       "      <td>63757.200</td>\n",
       "    </tr>\n",
       "    <tr>\n",
       "      <th>2</th>\n",
       "      <td>38181017</td>\n",
       "      <td>80434.880</td>\n",
       "    </tr>\n",
       "    <tr>\n",
       "      <th rowspan=\"2\" valign=\"top\">6</th>\n",
       "      <th>1</th>\n",
       "      <td>12713237</td>\n",
       "      <td>53689.000</td>\n",
       "    </tr>\n",
       "    <tr>\n",
       "      <th>2</th>\n",
       "      <td>35637965</td>\n",
       "      <td>107148.670</td>\n",
       "    </tr>\n",
       "    <tr>\n",
       "      <th rowspan=\"2\" valign=\"top\">7</th>\n",
       "      <th>1</th>\n",
       "      <td>18273674</td>\n",
       "      <td>79371.470</td>\n",
       "    </tr>\n",
       "    <tr>\n",
       "      <th>2</th>\n",
       "      <td>44656809</td>\n",
       "      <td>101954.100</td>\n",
       "    </tr>\n",
       "    <tr>\n",
       "      <th rowspan=\"2\" valign=\"top\">8</th>\n",
       "      <th>1</th>\n",
       "      <td>23615300</td>\n",
       "      <td>79411.480</td>\n",
       "    </tr>\n",
       "    <tr>\n",
       "      <th>2</th>\n",
       "      <td>38889734</td>\n",
       "      <td>58053.085</td>\n",
       "    </tr>\n",
       "    <tr>\n",
       "      <th rowspan=\"2\" valign=\"top\">9</th>\n",
       "      <th>1</th>\n",
       "      <td>21944896</td>\n",
       "      <td>80940.525</td>\n",
       "    </tr>\n",
       "    <tr>\n",
       "      <th>2</th>\n",
       "      <td>74542591</td>\n",
       "      <td>103774.350</td>\n",
       "    </tr>\n",
       "    <tr>\n",
       "      <th rowspan=\"2\" valign=\"top\">10</th>\n",
       "      <th>1</th>\n",
       "      <td>27777239</td>\n",
       "      <td>86047.620</td>\n",
       "    </tr>\n",
       "    <tr>\n",
       "      <th>2</th>\n",
       "      <td>75944582</td>\n",
       "      <td>95280.110</td>\n",
       "    </tr>\n",
       "    <tr>\n",
       "      <th rowspan=\"2\" valign=\"top\">11</th>\n",
       "      <th>1</th>\n",
       "      <td>28103816</td>\n",
       "      <td>85419.240</td>\n",
       "    </tr>\n",
       "    <tr>\n",
       "      <th>2</th>\n",
       "      <td>88900344</td>\n",
       "      <td>107583.580</td>\n",
       "    </tr>\n",
       "    <tr>\n",
       "      <th rowspan=\"2\" valign=\"top\">12</th>\n",
       "      <th>1</th>\n",
       "      <td>37544297</td>\n",
       "      <td>97008.335</td>\n",
       "    </tr>\n",
       "    <tr>\n",
       "      <th>2</th>\n",
       "      <td>88786122</td>\n",
       "      <td>102380.635</td>\n",
       "    </tr>\n",
       "  </tbody>\n",
       "</table>\n",
       "</div>"
      ],
      "text/plain": [
       "                 patient_id    revenues\n",
       "month clinic_id                        \n",
       "1     1            12333586   49252.010\n",
       "      2            21212091   48897.770\n",
       "2     1            12945015   67169.450\n",
       "      2            25554535   58058.185\n",
       "3     1            11734408   90365.660\n",
       "      2            31727060   61340.215\n",
       "4     1            14683820   87678.270\n",
       "      2            35041027   59258.270\n",
       "5     1            15907690   63757.200\n",
       "      2            38181017   80434.880\n",
       "6     1            12713237   53689.000\n",
       "      2            35637965  107148.670\n",
       "7     1            18273674   79371.470\n",
       "      2            44656809  101954.100\n",
       "8     1            23615300   79411.480\n",
       "      2            38889734   58053.085\n",
       "9     1            21944896   80940.525\n",
       "      2            74542591  103774.350\n",
       "10    1            27777239   86047.620\n",
       "      2            75944582   95280.110\n",
       "11    1            28103816   85419.240\n",
       "      2            88900344  107583.580\n",
       "12    1            37544297   97008.335\n",
       "      2            88786122  102380.635"
      ]
     },
     "execution_count": 37,
     "metadata": {},
     "output_type": "execute_result"
    }
   ],
   "source": [
    "all_in_one = data.groupby(['month','clinic_id']).agg({'patient_id':sum, 'revenues':sum})\n",
    "all_in_one\n",
    "#all_in_one['month'].sort_values()"
   ]
  },
  {
   "cell_type": "code",
   "execution_count": 38,
   "id": "ec2768cb-0189-4dbd-b343-9b12cfba0207",
   "metadata": {},
   "outputs": [
    {
     "data": {
      "text/plain": [
       "Text(0.5, 0, 'Month')"
      ]
     },
     "execution_count": 38,
     "metadata": {},
     "output_type": "execute_result"
    },
    {
     "data": {
      "image/png": "[encoded data removed]",
      "text/plain": [
       "<Figure size 640x480 with 1 Axes>"
      ]
     },
     "metadata": {},
     "output_type": "display_data"
    }
   ],
   "source": [
    "#data.groupby('month').revenues.sum().plot.bar(rot=0)\n",
    "data.groupby('month').revenues.sum().plot.bar(rot=0, color=[\"darkred\"])  \n",
    "plt.title('Total revenue by month in 2022 year', fontsize=14, fontweight='bold', color='black')\n",
    "plt.ylabel('Revenue', fontsize=12, fontweight='bold', color='black')\n",
    "plt.xlabel('Month', fontsize=12, fontweight='bold', color='black')"
   ]
  },
  {
   "cell_type": "markdown",
   "id": "69140de8-df42-4098-8acf-aa82205299be",
   "metadata": {},
   "source": [
    "# Average growth"
   ]
  },
  {
   "cell_type": "code",
   "execution_count": 39,
   "id": "85e544b6-5f0d-4d78-8c01-4c5ede59f782",
   "metadata": {},
   "outputs": [
    {
     "data": {
      "text/plain": [
       "0.0689325166267917"
      ]
     },
     "execution_count": 39,
     "metadata": {},
     "output_type": "execute_result"
    }
   ],
   "source": [
    "data.groupby('month').revenues.sum().sort_values().pct_change().mean()"
   ]
  },
  {
   "cell_type": "code",
   "execution_count": 40,
   "id": "82f38659-399a-4684-95fa-86c0ba682ce3",
   "metadata": {},
   "outputs": [],
   "source": [
    "data['growth']=data['revenues'].pct_change()"
   ]
  },
  {
   "cell_type": "code",
   "execution_count": 41,
   "id": "5dd54fd4-cbdb-47b7-a065-7c2eca5cf161",
   "metadata": {},
   "outputs": [
    {
     "data": {
      "text/plain": [
       "1904274.1099999999"
      ]
     },
     "execution_count": 41,
     "metadata": {},
     "output_type": "execute_result"
    }
   ],
   "source": [
    "data.revenues.sum()"
   ]
  },
  {
   "cell_type": "code",
   "execution_count": 42,
   "id": "44af811f-c45d-43d3-93a3-3fcdf756d694",
   "metadata": {},
   "outputs": [
    {
     "data": {
      "text/plain": [
       "month\n",
       "1      98149.780\n",
       "2     125227.635\n",
       "3     151705.875\n",
       "4     146936.540\n",
       "5     144192.080\n",
       "6     160837.670\n",
       "7     181325.570\n",
       "8     137464.565\n",
       "9     184714.875\n",
       "10    181327.730\n",
       "11    193002.820\n",
       "12    199388.970\n",
       "Name: revenues, dtype: float64"
      ]
     },
     "execution_count": 42,
     "metadata": {},
     "output_type": "execute_result"
    }
   ],
   "source": [
    "data.groupby('month').revenues.sum()"
   ]
  },
  {
   "cell_type": "code",
   "execution_count": 43,
   "id": "96dd646c-c622-4566-af34-1ed68a7ac825",
   "metadata": {},
   "outputs": [
    {
     "data": {
      "text/plain": [
       "Series([], Name: revenues, dtype: float64)"
      ]
     },
     "execution_count": 43,
     "metadata": {},
     "output_type": "execute_result"
    }
   ],
   "source": [
    "data.loc[(data['month']== 'Mar')].groupby('month').revenues.sum().sort_values()"
   ]
  },
  {
   "cell_type": "code",
   "execution_count": 44,
   "id": "b00515c3-cdeb-4c94-905a-b5d2aea28178",
   "metadata": {},
   "outputs": [
    {
     "data": {
      "text/plain": [
       "Text(0.5, 0, 'Month')"
      ]
     },
     "execution_count": 44,
     "metadata": {},
     "output_type": "execute_result"
    },
    {
     "data": {
      "image/png": "[encoded data removed]",
      "text/plain": [
       "<Figure size 640x480 with 1 Axes>"
      ]
     },
     "metadata": {},
     "output_type": "display_data"
    }
   ],
   "source": [
    "data.loc[(data['clinic_id']==1)].groupby('month').revenues.sum().sort_values().plot.bar(rot=0, color=[\"chocolate\"])   \n",
    "plt.title('Revenue in the first clinic by month in 2022 year', fontsize=14, fontweight='bold', color='black')\n",
    "plt.ylabel('Revenue', fontsize=12, fontweight='bold', color='black')\n",
    "plt.xlabel('Month', fontsize=12, fontweight='bold', color='black')"
   ]
  },
  {
   "cell_type": "code",
   "execution_count": 45,
   "id": "5165dcb1-7010-4fa1-b912-6f3d0913ebc3",
   "metadata": {},
   "outputs": [
    {
     "data": {
      "text/plain": [
       "month\n",
       "1     124.373763\n",
       "2     169.192569\n",
       "3     261.172428\n",
       "4     213.849439\n",
       "5     160.193970\n",
       "6     163.685976\n",
       "7     184.156543\n",
       "8     158.505948\n",
       "9     190.448294\n",
       "10    164.842184\n",
       "11    168.812727\n",
       "12    163.865431\n",
       "Name: revenues, dtype: float64"
      ]
     },
     "execution_count": 45,
     "metadata": {},
     "output_type": "execute_result"
    }
   ],
   "source": [
    "data.loc[(data['clinic_id']==1)].groupby('month').revenues.mean()"
   ]
  },
  {
   "cell_type": "code",
   "execution_count": 46,
   "id": "dd31ad13-bce5-4643-a8e0-11a538e39e89",
   "metadata": {},
   "outputs": [
    {
     "data": {
      "text/plain": [
       "Text(0.5, 0, 'Month')"
      ]
     },
     "execution_count": 46,
     "metadata": {},
     "output_type": "execute_result"
    },
    {
     "data": {
      "image/png": "[encoded data removed]",
      "text/plain": [
       "<Figure size 640x480 with 1 Axes>"
      ]
     },
     "metadata": {},
     "output_type": "display_data"
    }
   ],
   "source": [
    "data.loc[(data['clinic_id']==2)].groupby('month').revenues.sum().sort_values().plot.bar(rot=0, color=[\"chocolate\"])\n",
    "plt.title('Revenue in the second clinic by month in 2022 year', fontsize=14, fontweight='bold', color='black')\n",
    "plt.ylabel('Revenue', fontsize=12, fontweight='bold', color='black')\n",
    "plt.xlabel('Month', fontsize=12, fontweight='bold', color='black')"
   ]
  },
  {
   "cell_type": "code",
   "execution_count": 47,
   "id": "b86b5312-7ab8-4476-a9f2-e8f9ee5089b9",
   "metadata": {},
   "outputs": [
    {
     "data": {
      "text/plain": [
       "month\n",
       "4     146.678886\n",
       "3     152.208970\n",
       "10    153.677597\n",
       "8     155.222152\n",
       "1     156.222907\n",
       "11    157.978825\n",
       "2     161.272736\n",
       "12    162.251403\n",
       "9     165.509330\n",
       "5     191.511619\n",
       "7     233.304577\n",
       "6     281.970184\n",
       "Name: revenues, dtype: float64"
      ]
     },
     "execution_count": 47,
     "metadata": {},
     "output_type": "execute_result"
    }
   ],
   "source": [
    "data.loc[(data['clinic_id']==2)].groupby('month').revenues.mean().sort_values()"
   ]
  },
  {
   "cell_type": "code",
   "execution_count": 48,
   "id": "9d3df565-cdb6-46b2-afea-022ddb5edb82",
   "metadata": {},
   "outputs": [
    {
     "data": {
      "text/plain": [
       "month\n",
       "1     138.434104\n",
       "8     157.102360\n",
       "10    158.780849\n",
       "11    162.597152\n",
       "12    163.032682\n",
       "2     165.426202\n",
       "9     175.584482\n",
       "5     176.273936\n",
       "4     180.511720\n",
       "3     202.544559\n",
       "7     208.900426\n",
       "6     227.171850\n",
       "Name: revenues, dtype: float64"
      ]
     },
     "execution_count": 48,
     "metadata": {},
     "output_type": "execute_result"
    }
   ],
   "source": [
    "average_2022 = data.loc[(data['clinic_id']==2) | (data['clinic_id']==1)].groupby('month').revenues.mean().sort_values()\n",
    "average_2022"
   ]
  },
  {
   "cell_type": "code",
   "execution_count": 49,
   "id": "a8888872-61cf-45d2-808f-77d9118d38aa",
   "metadata": {},
   "outputs": [
    {
     "data": {
      "text/plain": [
       "2037573.2977"
      ]
     },
     "execution_count": 49,
     "metadata": {},
     "output_type": "execute_result"
    }
   ],
   "source": [
    "#2023 2 cl\n",
    "data.revenues.sum()*0.07 +data.revenues.sum()"
   ]
  },
  {
   "cell_type": "code",
   "execution_count": 50,
   "id": "3fff323a-9adf-4f70-b2c2-5b84f2f329a1",
   "metadata": {},
   "outputs": [
    {
     "data": {
      "text/plain": [
       "month\n",
       "1      98149.780\n",
       "2     125227.635\n",
       "3     151705.875\n",
       "4     146936.540\n",
       "5     144192.080\n",
       "6     160837.670\n",
       "7     181325.570\n",
       "8     137464.565\n",
       "9     184714.875\n",
       "10    181327.730\n",
       "11    193002.820\n",
       "12    199388.970\n",
       "Name: revenues, dtype: float64"
      ]
     },
     "execution_count": 50,
     "metadata": {},
     "output_type": "execute_result"
    }
   ],
   "source": [
    "total_2022 = data.groupby('month').revenues.sum()\n",
    "total_2022"
   ]
  },
  {
   "cell_type": "code",
   "execution_count": 53,
   "id": "3b804341-662c-4ff9-9e3d-41e22648dba3",
   "metadata": {},
   "outputs": [
    {
     "data": {
      "text/plain": [
       "3549455.6176999994"
      ]
     },
     "execution_count": 53,
     "metadata": {},
     "output_type": "execute_result"
    }
   ],
   "source": [
    "2037573.2977 +98149.780+125227.635+151705.875+146936.540+144192.080+160837.670+181325.570+137464.565+184714.875+181327.730"
   ]
  },
  {
   "cell_type": "code",
   "execution_count": 52,
   "id": "df62ee58-c801-4b82-a1bd-5611ffcd9d33",
   "metadata": {},
   "outputs": [
    {
     "data": {
      "text/plain": [
       "4376505.1976999985"
      ]
     },
     "execution_count": 52,
     "metadata": {},
     "output_type": "execute_result"
    }
   ],
   "source": [
    "3549455.6176999994+ 98149.780+125227.635+151705.875+146936.540+144192.080+160837.670"
   ]
  },
  {
   "cell_type": "code",
   "execution_count": 54,
   "id": "ad115469-2118-4ef8-bfd2-6dbbdae7dd77",
   "metadata": {},
   "outputs": [
    {
     "data": {
      "text/plain": [
       "month\n",
       "1    NaN\n",
       "2    NaN\n",
       "3    NaN\n",
       "4    NaN\n",
       "5    NaN\n",
       "6    NaN\n",
       "7    NaN\n",
       "8    NaN\n",
       "9    NaN\n",
       "10   NaN\n",
       "11   NaN\n",
       "12   NaN\n",
       "Name: revenues, dtype: float64"
      ]
     },
     "execution_count": 54,
     "metadata": {},
     "output_type": "execute_result"
    }
   ],
   "source": [
    "march_2023 = (data.loc[(data['month']== 'Mar')].groupby('month').revenues.sum()) + (data.loc[(data['clinic_id']==2) | (data['clinic_id']==1) & (data['month']== 'Mar')].groupby('month').revenues.mean())\n",
    "march_2023"
   ]
  },
  {
   "cell_type": "code",
   "execution_count": 56,
   "id": "3f90d3f3-9359-4868-bc22-5b014e7881fa",
   "metadata": {},
   "outputs": [
    {
     "data": {
      "text/plain": [
       "month\n",
       "1     138.434104\n",
       "8     157.102360\n",
       "10    158.780849\n",
       "11    162.597152\n",
       "12    163.032682\n",
       "2     165.426202\n",
       "9     175.584482\n",
       "5     176.273936\n",
       "4     180.511720\n",
       "3     202.544559\n",
       "7     208.900426\n",
       "6     227.171850\n",
       "Name: revenues, dtype: float64"
      ]
     },
     "execution_count": 56,
     "metadata": {},
     "output_type": "execute_result"
    }
   ],
   "source": [
    "average_2022"
   ]
  },
  {
   "cell_type": "code",
   "execution_count": 57,
   "id": "e7ee7ba3-a727-4ebf-b962-ff1da40c6e21",
   "metadata": {},
   "outputs": [
    {
     "data": {
      "text/plain": [
       "603.2209234"
      ]
     },
     "execution_count": 57,
     "metadata": {},
     "output_type": "execute_result"
    }
   ],
   "source": [
    "163.032682+ 163.032682*0.7 + 2*163.032682"
   ]
  },
  {
   "cell_type": "code",
   "execution_count": 58,
   "id": "a119ecd4-bf28-4410-883d-2ce840330452",
   "metadata": {},
   "outputs": [
    {
     "data": {
      "text/plain": [
       "267.074012"
      ]
     },
     "execution_count": 58,
     "metadata": {},
     "output_type": "execute_result"
    }
   ],
   "source": [
    "157.102360+ 157.102360 *0.7"
   ]
  },
  {
   "cell_type": "code",
   "execution_count": 59,
   "id": "745a733a-f13f-4454-86a3-ce686207e8b6",
   "metadata": {},
   "outputs": [
    {
     "data": {
      "text/plain": [
       "Text(0, 0.5, 'Revenue')"
      ]
     },
     "execution_count": 59,
     "metadata": {},
     "output_type": "execute_result"
    },
    {
     "data": {
      "image/png": "[encoded data removed]",
      "text/plain": [
       "<Figure size 640x480 with 1 Axes>"
      ]
     },
     "metadata": {},
     "output_type": "display_data"
    }
   ],
   "source": [
    "original_2023 = pd.DataFrame({\"Month\":['Jan', 'Feb', 'Mar', 'Apr', 'May', 'Jun', 'Jul', 'Aug', 'Sep', 'Okt', 'Nov', 'Dec'], \"Revenue\":[235.3, 281.2, 546.9, 487.4,475.9, 613.3, 772.9, 581.2, 649.7, 587.4, 601.6, 603.2 ]})\n",
    "original_2023.plot.bar(rot=0, color=[\"darkred\"])\n",
    "plt.title('Revenue in 2023 year', fontsize=14, fontweight='bold', color='black')\n",
    "plt.ylabel('Revenue', fontsize=12, fontweight='bold', color='black')\n",
    "#plt.xlabel([], fontsize=12, fontweight='bold', color='black')"
   ]
  },
  {
   "cell_type": "code",
   "execution_count": 60,
   "id": "5efdb68e-a09d-4e20-900b-42b0c733e152",
   "metadata": {},
   "outputs": [
    {
     "data": {
      "text/plain": [
       "<Axes: >"
      ]
     },
     "execution_count": 60,
     "metadata": {},
     "output_type": "execute_result"
    },
    {
     "data": {
      "image/png": "[encoded data removed]",
      "text/plain": [
       "<Figure size 640x480 with 1 Axes>"
      ]
     },
     "metadata": {},
     "output_type": "display_data"
    }
   ],
   "source": [
    "original_2023.plot.bar(rot=0, color=[\"chocolate\"])\n",
    "#plt.title('Revenue in the second clinic by month in 2022 year', fontsize=14, fontweight='bold', color='black')\n",
    "#plt.ylabel('Revenue', fontsize=12, fontweight='bold', color='black')\n",
    "#plt.xlabel('Month', fontsize=12, fontweight='bold', color='black')"
   ]
  },
  {
   "cell_type": "code",
   "execution_count": 61,
   "id": "33be7d18-382b-4d47-990d-0aefc4a9b6f1",
   "metadata": {},
   "outputs": [
    {
     "data": {
      "text/plain": [
       "6435.999999999999"
      ]
     },
     "execution_count": 61,
     "metadata": {},
     "output_type": "execute_result"
    }
   ],
   "source": [
    "original_2023.Revenue.sum()"
   ]
  },
  {
   "cell_type": "code",
   "execution_count": null,
   "id": "9e07527d-0615-4c65-b1c0-2729675685f5",
   "metadata": {},
   "outputs": [],
   "source": []
  },
  {
   "cell_type": "code",
   "execution_count": null,
   "id": "05f93575-08c4-4585-be89-c906984985e8",
   "metadata": {},
   "outputs": [],
   "source": []
  },
  {
   "cell_type": "code",
   "execution_count": null,
   "id": "79156af1-4a50-47fd-bd27-99463d5bf86a",
   "metadata": {},
   "outputs": [],
   "source": []
  },
  {
   "cell_type": "code",
   "execution_count": null,
   "id": "804f0bb6-f429-4421-8c9e-4fd77803933e",
   "metadata": {},
   "outputs": [],
   "source": []
  }
 ],
 "metadata": {
  "kernelspec": {
   "display_name": "Python 3 (ipykernel)",
   "language": "python",
   "name": "python3"
  },
  "language_info": {
   "codemirror_mode": {
    "name": "ipython",
    "version": 3
   },
   "file_extension": ".py",
   "mimetype": "text/x-python",
   "name": "python",
   "nbconvert_exporter": "python",
   "pygments_lexer": "ipython3",
   "version": "3.10.9"
  }
 },
 "nbformat": 4,
 "nbformat_minor": 5
}
